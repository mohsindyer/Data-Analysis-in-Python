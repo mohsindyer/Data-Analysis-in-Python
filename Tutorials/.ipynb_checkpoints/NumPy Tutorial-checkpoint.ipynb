{
 "cells": [
  {
   "cell_type": "markdown",
   "metadata": {},
   "source": [
    "## NumPy Tutorial"
   ]
  },
  {
   "cell_type": "code",
   "execution_count": 1,
   "metadata": {},
   "outputs": [],
   "source": [
    "import numpy as np"
   ]
  },
  {
   "cell_type": "code",
   "execution_count": 2,
   "metadata": {},
   "outputs": [
    {
     "data": {
      "text/plain": [
       "array([10, 20, 30, 40, 50])"
      ]
     },
     "execution_count": 2,
     "metadata": {},
     "output_type": "execute_result"
    }
   ],
   "source": [
    "X = np.array([10,20,30,40,50])\n",
    "X"
   ]
  },
  {
   "cell_type": "code",
   "execution_count": 4,
   "metadata": {},
   "outputs": [
    {
     "data": {
      "text/plain": [
       "numpy.ndarray"
      ]
     },
     "execution_count": 4,
     "metadata": {},
     "output_type": "execute_result"
    }
   ],
   "source": [
    "type(X)"
   ]
  },
  {
   "cell_type": "markdown",
   "metadata": {},
   "source": [
    "### Array Creation in one dimension"
   ]
  },
  {
   "cell_type": "code",
   "execution_count": 6,
   "metadata": {},
   "outputs": [
    {
     "name": "stdout",
     "output_type": "stream",
     "text": [
      "[10 20 30 40 50]\n",
      "<class 'numpy.ndarray'>\n",
      "1,(5,),5,8,40,int64\n"
     ]
    }
   ],
   "source": [
    "X = np.array([10, 20, 30, 40, 50])\n",
    "print(X, type(X), sep=\"\\n\")\n",
    "print(X.ndim, X.shape, X.size, X.itemsize, X.nbytes, X.dtype, sep=\",\")"
   ]
  },
  {
   "cell_type": "markdown",
   "metadata": {},
   "source": [
    "X.ndim gives the dimesion of the array <br>\n",
    "X.shape gives the number of elements in each dimesion <br>\n",
    "X.size indicates the total number of elements in the array <br>\n",
    "X.itemsize indicates how much memory is required to store a particular element of the array <br>\n",
    "X.nbytes gives the total memory required to store the array <br>\n",
    "X.dtype gives the datatype for the array<br>"
   ]
  },
  {
   "cell_type": "code",
   "execution_count": 8,
   "metadata": {},
   "outputs": [
    {
     "name": "stdout",
     "output_type": "stream",
     "text": [
      "[0. 0. 0. 0. 0. 0. 0. 0. 0. 0.]\n",
      "<class 'numpy.ndarray'>\n",
      "1,(10,),10,8,80,float64\n"
     ]
    }
   ],
   "source": [
    "X = np.zeros(10)\n",
    "print(X, type(X), sep=\"\\n\")\n",
    "print(X.ndim, X.shape, X.size, X.itemsize, X.nbytes, X.dtype, sep=\",\")"
   ]
  },
  {
   "cell_type": "code",
   "execution_count": 9,
   "metadata": {},
   "outputs": [
    {
     "name": "stdout",
     "output_type": "stream",
     "text": [
      "[1. 1. 1. 1. 1. 1. 1. 1. 1. 1.]\n",
      "<class 'numpy.ndarray'>\n",
      "1,(10,),10,8,80,float64\n"
     ]
    }
   ],
   "source": [
    "X = np.ones(10)\n",
    "print(X, type(X), sep=\"\\n\")\n",
    "print(X.ndim, X.shape, X.size, X.itemsize, X.nbytes, X.dtype, sep=\",\")"
   ]
  },
  {
   "cell_type": "code",
   "execution_count": 10,
   "metadata": {},
   "outputs": [
    {
     "name": "stdout",
     "output_type": "stream",
     "text": [
      "[ 1.28822975e-231 -2.32036304e+077  6.95047465e-310  3.47638988e-309]\n",
      "<class 'numpy.ndarray'>\n",
      "1,(4,),4,8,32,float64\n"
     ]
    }
   ],
   "source": [
    "X = np.empty(4)\n",
    "print(X, type(X), sep=\"\\n\")\n",
    "print(X.ndim, X.shape, X.size, X.itemsize, X.nbytes, X.dtype, sep=\",\")"
   ]
  },
  {
   "cell_type": "markdown",
   "metadata": {},
   "source": [
    "This array is uninitialized"
   ]
  },
  {
   "cell_type": "markdown",
   "metadata": {},
   "source": [
    "### Array Creation in multi-dimension"
   ]
  },
  {
   "cell_type": "code",
   "execution_count": 11,
   "metadata": {},
   "outputs": [
    {
     "name": "stdout",
     "output_type": "stream",
     "text": [
      "[[1. 1. 1.]\n",
      " [1. 1. 1.]\n",
      " [1. 1. 1.]\n",
      " [1. 1. 1.]\n",
      " [1. 1. 1.]]\n",
      "<class 'numpy.ndarray'>\n",
      "2,(5, 3),15,8,120,float64\n"
     ]
    }
   ],
   "source": [
    "X = np.ones((5,3))\n",
    "print(X, type(X), sep=\"\\n\")\n",
    "print(X.ndim, X.shape, X.size, X.itemsize, X.nbytes, X.dtype, sep=\",\")"
   ]
  },
  {
   "cell_type": "code",
   "execution_count": 12,
   "metadata": {},
   "outputs": [
    {
     "name": "stdout",
     "output_type": "stream",
     "text": [
      "[[[1. 1. 1.]\n",
      "  [1. 1. 1.]\n",
      "  [1. 1. 1.]\n",
      "  [1. 1. 1.]\n",
      "  [1. 1. 1.]]\n",
      "\n",
      " [[1. 1. 1.]\n",
      "  [1. 1. 1.]\n",
      "  [1. 1. 1.]\n",
      "  [1. 1. 1.]\n",
      "  [1. 1. 1.]]]\n",
      "<class 'numpy.ndarray'>\n",
      "3,(2, 5, 3),30,8,240,float64\n"
     ]
    }
   ],
   "source": [
    "X = np.ones((2,5,3))\n",
    "print(X, type(X), sep=\"\\n\")\n",
    "print(X.ndim, X.shape, X.size, X.itemsize, X.nbytes, X.dtype, sep=\",\")"
   ]
  },
  {
   "cell_type": "code",
   "execution_count": 13,
   "metadata": {},
   "outputs": [
    {
     "name": "stdout",
     "output_type": "stream",
     "text": [
      "[[[[1. 1. 1.]\n",
      "   [1. 1. 1.]\n",
      "   [1. 1. 1.]\n",
      "   [1. 1. 1.]\n",
      "   [1. 1. 1.]]\n",
      "\n",
      "  [[1. 1. 1.]\n",
      "   [1. 1. 1.]\n",
      "   [1. 1. 1.]\n",
      "   [1. 1. 1.]\n",
      "   [1. 1. 1.]]]\n",
      "\n",
      "\n",
      " [[[1. 1. 1.]\n",
      "   [1. 1. 1.]\n",
      "   [1. 1. 1.]\n",
      "   [1. 1. 1.]\n",
      "   [1. 1. 1.]]\n",
      "\n",
      "  [[1. 1. 1.]\n",
      "   [1. 1. 1.]\n",
      "   [1. 1. 1.]\n",
      "   [1. 1. 1.]\n",
      "   [1. 1. 1.]]]]\n",
      "<class 'numpy.ndarray'>\n",
      "4,(2, 2, 5, 3),60,8,480,float64\n"
     ]
    }
   ],
   "source": [
    "X = np.ones((2, 2,5,3))\n",
    "print(X, type(X), sep=\"\\n\")\n",
    "print(X.ndim, X.shape, X.size, X.itemsize, X.nbytes, X.dtype, sep=\",\")"
   ]
  },
  {
   "cell_type": "code",
   "execution_count": 14,
   "metadata": {},
   "outputs": [
    {
     "name": "stdout",
     "output_type": "stream",
     "text": [
      "[[[[[1. 1. 1.]\n",
      "    [1. 1. 1.]\n",
      "    [1. 1. 1.]\n",
      "    [1. 1. 1.]\n",
      "    [1. 1. 1.]]\n",
      "\n",
      "   [[1. 1. 1.]\n",
      "    [1. 1. 1.]\n",
      "    [1. 1. 1.]\n",
      "    [1. 1. 1.]\n",
      "    [1. 1. 1.]]]\n",
      "\n",
      "\n",
      "  [[[1. 1. 1.]\n",
      "    [1. 1. 1.]\n",
      "    [1. 1. 1.]\n",
      "    [1. 1. 1.]\n",
      "    [1. 1. 1.]]\n",
      "\n",
      "   [[1. 1. 1.]\n",
      "    [1. 1. 1.]\n",
      "    [1. 1. 1.]\n",
      "    [1. 1. 1.]\n",
      "    [1. 1. 1.]]]]\n",
      "\n",
      "\n",
      "\n",
      " [[[[1. 1. 1.]\n",
      "    [1. 1. 1.]\n",
      "    [1. 1. 1.]\n",
      "    [1. 1. 1.]\n",
      "    [1. 1. 1.]]\n",
      "\n",
      "   [[1. 1. 1.]\n",
      "    [1. 1. 1.]\n",
      "    [1. 1. 1.]\n",
      "    [1. 1. 1.]\n",
      "    [1. 1. 1.]]]\n",
      "\n",
      "\n",
      "  [[[1. 1. 1.]\n",
      "    [1. 1. 1.]\n",
      "    [1. 1. 1.]\n",
      "    [1. 1. 1.]\n",
      "    [1. 1. 1.]]\n",
      "\n",
      "   [[1. 1. 1.]\n",
      "    [1. 1. 1.]\n",
      "    [1. 1. 1.]\n",
      "    [1. 1. 1.]\n",
      "    [1. 1. 1.]]]]]\n",
      "<class 'numpy.ndarray'>\n",
      "5,(2, 2, 2, 5, 3),120,8,960,float64\n"
     ]
    }
   ],
   "source": [
    "X = np.ones((2, 2, 2,5,3))\n",
    "print(X, type(X), sep=\"\\n\")\n",
    "print(X.ndim, X.shape, X.size, X.itemsize, X.nbytes, X.dtype, sep=\",\")"
   ]
  },
  {
   "cell_type": "code",
   "execution_count": 17,
   "metadata": {},
   "outputs": [
    {
     "name": "stdout",
     "output_type": "stream",
     "text": [
      "[[1 1 1]\n",
      " [1 1 1]\n",
      " [1 1 1]\n",
      " [1 1 1]\n",
      " [1 1 1]]\n",
      "<class 'numpy.ndarray'>\n",
      "2,(5, 3),15,4,60,int32\n"
     ]
    }
   ],
   "source": [
    "X = np.ones((5,3), dtype = np.int32) # declaring with the datatype\n",
    "print(X, type(X), sep=\"\\n\")\n",
    "print(X.ndim, X.shape, X.size, X.itemsize, X.nbytes, X.dtype, sep=\",\")"
   ]
  },
  {
   "cell_type": "markdown",
   "metadata": {},
   "source": [
    "__Converting the data-type__:"
   ]
  },
  {
   "cell_type": "code",
   "execution_count": 16,
   "metadata": {},
   "outputs": [
    {
     "name": "stdout",
     "output_type": "stream",
     "text": [
      "[[1. 1. 1.]\n",
      " [1. 1. 1.]\n",
      " [1. 1. 1.]\n",
      " [1. 1. 1.]\n",
      " [1. 1. 1.]]\n",
      "<class 'numpy.ndarray'>\n",
      "2,(5, 3),15,8,120,float64\n"
     ]
    }
   ],
   "source": [
    "X = X.astype(np.float64)\n",
    "print(X, type(X), sep=\"\\n\")\n",
    "print(X.ndim, X.shape, X.size, X.itemsize, X.nbytes, X.dtype, sep=\",\")"
   ]
  },
  {
   "cell_type": "markdown",
   "metadata": {},
   "source": [
    "### Arithmetic Operations"
   ]
  },
  {
   "cell_type": "code",
   "execution_count": 18,
   "metadata": {},
   "outputs": [
    {
     "name": "stdout",
     "output_type": "stream",
     "text": [
      "[[11 22 33 44]\n",
      " [55 66 77 88]]\n",
      "\n",
      "[[ 10  40  90 160]\n",
      " [250 360 490 640]]\n",
      "\n",
      "[[ 9 18 27 36]\n",
      " [45 54 63 72]]\n",
      "\n",
      "[[10. 10. 10. 10.]\n",
      " [10. 10. 10. 10.]]\n"
     ]
    }
   ],
   "source": [
    "X = np.array([[10,20,30,40],[50,60,70,80]])\n",
    "Y = np.array([[1,2,3,4],[5,6,7,8]])\n",
    "print(X+Y, X*Y, X-Y, X/Y, sep=\"\\n\\n\")"
   ]
  },
  {
   "cell_type": "code",
   "execution_count": 19,
   "metadata": {},
   "outputs": [
    {
     "name": "stdout",
     "output_type": "stream",
     "text": [
      "[[ 30  40  50  60]\n",
      " [ 70  80  90 100]]\n",
      "\n",
      "[[ 200  400  600  800]\n",
      " [1000 1200 1400 1600]]\n",
      "\n",
      "[[-10   0  10  20]\n",
      " [ 30  40  50  60]]\n",
      "\n",
      "[[0.5 1.  1.5 2. ]\n",
      " [2.5 3.  3.5 4. ]]\n"
     ]
    }
   ],
   "source": [
    "X = np.array([[10,20,30,40],[50,60,70,80]])\n",
    "Y = 20\n",
    "print(X+Y, X*Y, X-Y, X/Y, sep=\"\\n\\n\")"
   ]
  },
  {
   "cell_type": "code",
   "execution_count": 20,
   "metadata": {},
   "outputs": [
    {
     "ename": "ValueError",
     "evalue": "operands could not be broadcast together with shapes (3,4) (2,4) ",
     "output_type": "error",
     "traceback": [
      "\u001b[0;31m---------------------------------------------------------------------------\u001b[0m",
      "\u001b[0;31mValueError\u001b[0m                                Traceback (most recent call last)",
      "\u001b[0;32m<ipython-input-20-5160e547c895>\u001b[0m in \u001b[0;36m<module>\u001b[0;34m\u001b[0m\n\u001b[1;32m      1\u001b[0m \u001b[0mX\u001b[0m \u001b[0;34m=\u001b[0m \u001b[0mnp\u001b[0m\u001b[0;34m.\u001b[0m\u001b[0marray\u001b[0m\u001b[0;34m(\u001b[0m\u001b[0;34m[\u001b[0m\u001b[0;34m[\u001b[0m\u001b[0;36m10\u001b[0m\u001b[0;34m,\u001b[0m\u001b[0;36m20\u001b[0m\u001b[0;34m,\u001b[0m\u001b[0;36m30\u001b[0m\u001b[0;34m,\u001b[0m\u001b[0;36m40\u001b[0m\u001b[0;34m]\u001b[0m\u001b[0;34m,\u001b[0m\u001b[0;34m[\u001b[0m\u001b[0;36m50\u001b[0m\u001b[0;34m,\u001b[0m\u001b[0;36m60\u001b[0m\u001b[0;34m,\u001b[0m\u001b[0;36m70\u001b[0m\u001b[0;34m,\u001b[0m\u001b[0;36m80\u001b[0m\u001b[0;34m]\u001b[0m\u001b[0;34m,\u001b[0m\u001b[0;34m[\u001b[0m\u001b[0;36m90\u001b[0m\u001b[0;34m,\u001b[0m\u001b[0;36m100\u001b[0m\u001b[0;34m,\u001b[0m\u001b[0;36m120\u001b[0m\u001b[0;34m,\u001b[0m\u001b[0;36m130\u001b[0m\u001b[0;34m]\u001b[0m\u001b[0;34m]\u001b[0m\u001b[0;34m)\u001b[0m\u001b[0;34m\u001b[0m\u001b[0;34m\u001b[0m\u001b[0m\n\u001b[1;32m      2\u001b[0m \u001b[0mY\u001b[0m \u001b[0;34m=\u001b[0m \u001b[0mnp\u001b[0m\u001b[0;34m.\u001b[0m\u001b[0marray\u001b[0m\u001b[0;34m(\u001b[0m\u001b[0;34m[\u001b[0m\u001b[0;34m[\u001b[0m\u001b[0;36m1\u001b[0m\u001b[0;34m,\u001b[0m\u001b[0;36m2\u001b[0m\u001b[0;34m,\u001b[0m\u001b[0;36m3\u001b[0m\u001b[0;34m,\u001b[0m\u001b[0;36m4\u001b[0m\u001b[0;34m]\u001b[0m\u001b[0;34m,\u001b[0m\u001b[0;34m[\u001b[0m\u001b[0;36m5\u001b[0m\u001b[0;34m,\u001b[0m\u001b[0;36m6\u001b[0m\u001b[0;34m,\u001b[0m\u001b[0;36m7\u001b[0m\u001b[0;34m,\u001b[0m\u001b[0;36m8\u001b[0m\u001b[0;34m]\u001b[0m\u001b[0;34m]\u001b[0m\u001b[0;34m)\u001b[0m\u001b[0;34m\u001b[0m\u001b[0;34m\u001b[0m\u001b[0m\n\u001b[0;32m----> 3\u001b[0;31m \u001b[0mprint\u001b[0m\u001b[0;34m(\u001b[0m\u001b[0mX\u001b[0m\u001b[0;34m+\u001b[0m\u001b[0mY\u001b[0m\u001b[0;34m,\u001b[0m \u001b[0mX\u001b[0m\u001b[0;34m*\u001b[0m\u001b[0mY\u001b[0m\u001b[0;34m,\u001b[0m \u001b[0mX\u001b[0m\u001b[0;34m-\u001b[0m\u001b[0mY\u001b[0m\u001b[0;34m,\u001b[0m \u001b[0mX\u001b[0m\u001b[0;34m/\u001b[0m\u001b[0mY\u001b[0m\u001b[0;34m,\u001b[0m \u001b[0msep\u001b[0m\u001b[0;34m=\u001b[0m\u001b[0;34m\"\\n\\n\"\u001b[0m\u001b[0;34m)\u001b[0m\u001b[0;34m\u001b[0m\u001b[0;34m\u001b[0m\u001b[0m\n\u001b[0m",
      "\u001b[0;31mValueError\u001b[0m: operands could not be broadcast together with shapes (3,4) (2,4) "
     ]
    }
   ],
   "source": [
    "X = np.array([[10,20,30,40],[50,60,70,80],[90,100,120,130]])\n",
    "Y = np.array([[1,2,3,4],[5,6,7,8]])\n",
    "print(X+Y, X*Y, X-Y, X/Y, sep=\"\\n\\n\")"
   ]
  },
  {
   "cell_type": "markdown",
   "metadata": {},
   "source": [
    "Dimensions should be same to do arithmetic opeartions"
   ]
  },
  {
   "cell_type": "code",
   "execution_count": 23,
   "metadata": {},
   "outputs": [
    {
     "name": "stdout",
     "output_type": "stream",
     "text": [
      "[[[1. 1. 1.]\n",
      "  [1. 1. 1.]\n",
      "  [1. 1. 1.]\n",
      "  [1. 1. 1.]\n",
      "  [1. 1. 1.]]\n",
      "\n",
      " [[1. 1. 1.]\n",
      "  [1. 1. 1.]\n",
      "  [1. 1. 1.]\n",
      "  [1. 1. 1.]\n",
      "  [1. 1. 1.]]]\n",
      "\n",
      "[[[0. 0. 0.]\n",
      "  [0. 0. 0.]\n",
      "  [0. 0. 0.]\n",
      "  [0. 0. 0.]\n",
      "  [0. 0. 0.]]\n",
      "\n",
      " [[0. 0. 0.]\n",
      "  [0. 0. 0.]\n",
      "  [0. 0. 0.]\n",
      "  [0. 0. 0.]\n",
      "  [0. 0. 0.]]]\n",
      "\n",
      "[[[1. 1. 1.]\n",
      "  [1. 1. 1.]\n",
      "  [1. 1. 1.]\n",
      "  [1. 1. 1.]\n",
      "  [1. 1. 1.]]\n",
      "\n",
      " [[1. 1. 1.]\n",
      "  [1. 1. 1.]\n",
      "  [1. 1. 1.]\n",
      "  [1. 1. 1.]\n",
      "  [1. 1. 1.]]]\n",
      "\n",
      "[[[inf inf inf]\n",
      "  [inf inf inf]\n",
      "  [inf inf inf]\n",
      "  [inf inf inf]\n",
      "  [inf inf inf]]\n",
      "\n",
      " [[inf inf inf]\n",
      "  [inf inf inf]\n",
      "  [inf inf inf]\n",
      "  [inf inf inf]\n",
      "  [inf inf inf]]]\n"
     ]
    },
    {
     "name": "stderr",
     "output_type": "stream",
     "text": [
      "<ipython-input-23-17c8d94945e1>:3: RuntimeWarning: divide by zero encountered in true_divide\n",
      "  print(X+Y, X*Y, X-Y, X/Y, sep=\"\\n\\n\")\n"
     ]
    }
   ],
   "source": [
    "X = np.ones((2,5,3))\n",
    "Y = np.zeros((2,5,3))\n",
    "print(X+Y, X*Y, X-Y, X/Y, sep=\"\\n\\n\")"
   ]
  },
  {
   "cell_type": "markdown",
   "metadata": {},
   "source": [
    "### Indexing and Slicing Operations"
   ]
  },
  {
   "cell_type": "code",
   "execution_count": 26,
   "metadata": {},
   "outputs": [
    {
     "name": "stdout",
     "output_type": "stream",
     "text": [
      "30\n",
      "[20 30]\n"
     ]
    }
   ],
   "source": [
    "X = np.array([10,20,30,40,50])\n",
    "print(X[2], X[1:3], sep=\"\\n\")"
   ]
  },
  {
   "cell_type": "code",
   "execution_count": 27,
   "metadata": {},
   "outputs": [
    {
     "data": {
      "text/plain": [
       "array([10, 99, 99, 40, 50])"
      ]
     },
     "execution_count": 27,
     "metadata": {},
     "output_type": "execute_result"
    }
   ],
   "source": [
    "X[1:3] = 99\n",
    "X"
   ]
  },
  {
   "cell_type": "code",
   "execution_count": 28,
   "metadata": {},
   "outputs": [
    {
     "data": {
      "text/plain": [
       "array([99, 99])"
      ]
     },
     "execution_count": 28,
     "metadata": {},
     "output_type": "execute_result"
    }
   ],
   "source": [
    "subarray = X[1:3]\n",
    "subarray"
   ]
  },
  {
   "cell_type": "code",
   "execution_count": 29,
   "metadata": {},
   "outputs": [
    {
     "data": {
      "text/plain": [
       "array([199,  99])"
      ]
     },
     "execution_count": 29,
     "metadata": {},
     "output_type": "execute_result"
    }
   ],
   "source": [
    "subarray[0] = 199\n",
    "subarray"
   ]
  },
  {
   "cell_type": "markdown",
   "metadata": {},
   "source": [
    "Changing anything in the subarray, changes it in the main array"
   ]
  },
  {
   "cell_type": "code",
   "execution_count": 30,
   "metadata": {},
   "outputs": [
    {
     "data": {
      "text/plain": [
       "array([ 10, 199,  99,  40,  50])"
      ]
     },
     "execution_count": 30,
     "metadata": {},
     "output_type": "execute_result"
    }
   ],
   "source": [
    "X"
   ]
  },
  {
   "cell_type": "markdown",
   "metadata": {},
   "source": [
    "### Indexing and Slicing in higher dimensions"
   ]
  },
  {
   "cell_type": "code",
   "execution_count": 31,
   "metadata": {},
   "outputs": [
    {
     "data": {
      "text/plain": [
       "array([[10, 20, 30, 40],\n",
       "       [50, 60, 70, 80]])"
      ]
     },
     "execution_count": 31,
     "metadata": {},
     "output_type": "execute_result"
    }
   ],
   "source": [
    "X = np.array([[10,20,30,40],[50,60,70,80]])\n",
    "X"
   ]
  },
  {
   "cell_type": "code",
   "execution_count": 32,
   "metadata": {},
   "outputs": [
    {
     "data": {
      "text/plain": [
       "array([10, 20, 30, 40])"
      ]
     },
     "execution_count": 32,
     "metadata": {},
     "output_type": "execute_result"
    }
   ],
   "source": [
    "X[0]"
   ]
  },
  {
   "cell_type": "code",
   "execution_count": 33,
   "metadata": {},
   "outputs": [
    {
     "data": {
      "text/plain": [
       "array([50, 60, 70, 80])"
      ]
     },
     "execution_count": 33,
     "metadata": {},
     "output_type": "execute_result"
    }
   ],
   "source": [
    "X[1]"
   ]
  },
  {
   "cell_type": "markdown",
   "metadata": {},
   "source": [
    "__Extracting row information:__"
   ]
  },
  {
   "cell_type": "code",
   "execution_count": 34,
   "metadata": {},
   "outputs": [
    {
     "name": "stdout",
     "output_type": "stream",
     "text": [
      "[10 20 30 40]\n",
      "\n",
      "[50 60 70 80]\n"
     ]
    }
   ],
   "source": [
    "print(X[0], X[1], sep=\"\\n\\n\")"
   ]
  },
  {
   "cell_type": "markdown",
   "metadata": {},
   "source": [
    "__Extracting column information:__"
   ]
  },
  {
   "cell_type": "code",
   "execution_count": 35,
   "metadata": {},
   "outputs": [
    {
     "data": {
      "text/plain": [
       "array([40, 80])"
      ]
     },
     "execution_count": 35,
     "metadata": {},
     "output_type": "execute_result"
    }
   ],
   "source": [
    "X[:,3]"
   ]
  },
  {
   "cell_type": "code",
   "execution_count": 36,
   "metadata": {},
   "outputs": [
    {
     "name": "stdout",
     "output_type": "stream",
     "text": [
      "[40 80]\n",
      "\n",
      "[30 70]\n"
     ]
    }
   ],
   "source": [
    "print(X[:,3], X[:,2], sep=\"\\n\\n\")"
   ]
  },
  {
   "cell_type": "code",
   "execution_count": 38,
   "metadata": {},
   "outputs": [
    {
     "data": {
      "text/plain": [
       "array([[20, 30],\n",
       "       [60, 70]])"
      ]
     },
     "execution_count": 38,
     "metadata": {},
     "output_type": "execute_result"
    }
   ],
   "source": [
    "X[:,1:3] # all rows and the columns to return"
   ]
  },
  {
   "cell_type": "code",
   "execution_count": 39,
   "metadata": {},
   "outputs": [
    {
     "data": {
      "text/plain": [
       "array([20, 30])"
      ]
     },
     "execution_count": 39,
     "metadata": {},
     "output_type": "execute_result"
    }
   ],
   "source": [
    "X[0,1:3]"
   ]
  },
  {
   "cell_type": "code",
   "execution_count": 50,
   "metadata": {},
   "outputs": [
    {
     "data": {
      "text/plain": [
       "array([[[ 10,  20,  30,  40],\n",
       "        [ 50,  60,  70,  80]],\n",
       "\n",
       "       [[100, 200, 300, 400],\n",
       "        [500, 600, 700, 800]]])"
      ]
     },
     "execution_count": 50,
     "metadata": {},
     "output_type": "execute_result"
    }
   ],
   "source": [
    "X = np.array([[[10,20,30,40],[50,60,70,80]],[[100,200,300,400],[500,600,700,800]]])\n",
    "X\n",
    "# in 3-d arrays, 1 additional dimenion is the depth "
   ]
  },
  {
   "cell_type": "code",
   "execution_count": 51,
   "metadata": {},
   "outputs": [
    {
     "data": {
      "text/plain": [
       "array([[10, 20, 30, 40],\n",
       "       [50, 60, 70, 80]])"
      ]
     },
     "execution_count": 51,
     "metadata": {},
     "output_type": "execute_result"
    }
   ],
   "source": [
    "X[0]"
   ]
  },
  {
   "cell_type": "code",
   "execution_count": 52,
   "metadata": {},
   "outputs": [
    {
     "name": "stdout",
     "output_type": "stream",
     "text": [
      "[[10 20 30 40]\n",
      " [50 60 70 80]]\n",
      "\n",
      "[[100 200 300 400]\n",
      " [500 600 700 800]]\n"
     ]
    }
   ],
   "source": [
    "print(X[0], X[1], sep=\"\\n\\n\")"
   ]
  },
  {
   "cell_type": "code",
   "execution_count": 53,
   "metadata": {},
   "outputs": [
    {
     "data": {
      "text/plain": [
       "array([50, 60, 70, 80])"
      ]
     },
     "execution_count": 53,
     "metadata": {},
     "output_type": "execute_result"
    }
   ],
   "source": [
    "X[0,1]"
   ]
  },
  {
   "cell_type": "code",
   "execution_count": 54,
   "metadata": {},
   "outputs": [
    {
     "name": "stdout",
     "output_type": "stream",
     "text": [
      "[50 60 70 80]\n",
      "\n",
      "[100 200 300 400]\n"
     ]
    }
   ],
   "source": [
    "print(X[0,1],X[1,0], sep=\"\\n\\n\")"
   ]
  },
  {
   "cell_type": "code",
   "execution_count": 55,
   "metadata": {},
   "outputs": [
    {
     "data": {
      "text/plain": [
       "array([40, 80])"
      ]
     },
     "execution_count": 55,
     "metadata": {},
     "output_type": "execute_result"
    }
   ],
   "source": [
    "X[0,:,3]"
   ]
  },
  {
   "cell_type": "code",
   "execution_count": 56,
   "metadata": {},
   "outputs": [
    {
     "name": "stdout",
     "output_type": "stream",
     "text": [
      "[40 80]\n",
      "\n",
      "[300 700]\n"
     ]
    }
   ],
   "source": [
    "print(X[0,:,3],X[1,:,2], sep=\"\\n\\n\")"
   ]
  },
  {
   "cell_type": "code",
   "execution_count": 57,
   "metadata": {},
   "outputs": [
    {
     "data": {
      "text/plain": [
       "300"
      ]
     },
     "execution_count": 57,
     "metadata": {},
     "output_type": "execute_result"
    }
   ],
   "source": [
    "X[1,0,2]"
   ]
  },
  {
   "cell_type": "markdown",
   "metadata": {},
   "source": [
    "__It follows the sequence of depth, row, column__"
   ]
  },
  {
   "cell_type": "markdown",
   "metadata": {},
   "source": [
    "### Row and column slicing based on boolean array"
   ]
  },
  {
   "cell_type": "code",
   "execution_count": 61,
   "metadata": {},
   "outputs": [
    {
     "name": "stdout",
     "output_type": "stream",
     "text": [
      "[[0.03211538 0.25465184 0.50393089]\n",
      " [0.39533074 0.9552088  0.69933997]\n",
      " [0.90876015 0.17767764 0.04419876]\n",
      " [0.04268752 0.74249828 0.45387653]]\n",
      "\n",
      "[[0.03211538 0.25465184 0.50393089]\n",
      " [0.90876015 0.17767764 0.04419876]]\n"
     ]
    }
   ],
   "source": [
    "X = np.random.rand(4,3) # initializes all the values with random values\n",
    "Y = np.array([True, False, True, False])\n",
    "print(X, X[Y==True], sep=\"\\n\\n\")"
   ]
  },
  {
   "cell_type": "code",
   "execution_count": 63,
   "metadata": {},
   "outputs": [
    {
     "name": "stdout",
     "output_type": "stream",
     "text": [
      "[[0.80574853 0.08796918 0.58609105]\n",
      " [0.21644715 0.96851099 0.64878071]\n",
      " [0.2759556  0.48853555 0.3789293 ]\n",
      " [0.71660158 0.10698572 0.12215167]]\n",
      "\n",
      "[[0.80574853 0.08796918 0.58609105]\n",
      " [0.2759556  0.48853555 0.3789293 ]]\n",
      "\n",
      "[[0.80574853 0.58609105]\n",
      " [0.21644715 0.64878071]\n",
      " [0.2759556  0.3789293 ]\n",
      " [0.71660158 0.12215167]]\n"
     ]
    }
   ],
   "source": [
    "X = np.random.rand(4,3) # initializes all the values with random values\n",
    "Yrow = np.array([True, False, True, False])\n",
    "Ycol = np.array([True, False, True])\n",
    "\n",
    "print(X, X[Yrow==True], X[:,Ycol==True], sep=\"\\n\\n\")"
   ]
  },
  {
   "cell_type": "code",
   "execution_count": 65,
   "metadata": {},
   "outputs": [
    {
     "data": {
      "text/plain": [
       "array([[0.23572342, 0.81270967, 0.28343741],\n",
       "       [0.52353602, 0.74133894, 0.92110522],\n",
       "       [0.11399863, 0.74805438, 0.63765359],\n",
       "       [0.55281963, 0.83067612, 0.63005452]])"
      ]
     },
     "execution_count": 65,
     "metadata": {},
     "output_type": "execute_result"
    }
   ],
   "source": [
    "X = np.random.rand(4,3)\n",
    "X"
   ]
  },
  {
   "cell_type": "code",
   "execution_count": 66,
   "metadata": {},
   "outputs": [
    {
     "data": {
      "text/plain": [
       "array([0.81270967, 0.52353602, 0.74133894, 0.92110522, 0.74805438,\n",
       "       0.63765359, 0.55281963, 0.83067612, 0.63005452])"
      ]
     },
     "execution_count": 66,
     "metadata": {},
     "output_type": "execute_result"
    }
   ],
   "source": [
    "X[X>0.4]"
   ]
  },
  {
   "cell_type": "code",
   "execution_count": 69,
   "metadata": {},
   "outputs": [
    {
     "data": {
      "text/plain": [
       "array([[ 0.23572342, 99.        ,  0.28343741],\n",
       "       [99.        , 99.        , 99.        ],\n",
       "       [ 0.11399863, 99.        , 99.        ],\n",
       "       [99.        , 99.        , 99.        ]])"
      ]
     },
     "execution_count": 69,
     "metadata": {},
     "output_type": "execute_result"
    }
   ],
   "source": [
    "X[X>0.4] = 99\n",
    "X"
   ]
  },
  {
   "cell_type": "markdown",
   "metadata": {},
   "source": [
    "### Fancy Indexing"
   ]
  },
  {
   "cell_type": "code",
   "execution_count": 70,
   "metadata": {},
   "outputs": [
    {
     "data": {
      "text/plain": [
       "array([[0.44837031, 0.23640824, 0.38340146, 0.31658948],\n",
       "       [0.04972139, 0.51581422, 0.01262406, 0.13425724],\n",
       "       [0.17637007, 0.99132168, 0.3320624 , 0.305084  ],\n",
       "       [0.29821632, 0.60756363, 0.64069949, 0.23696289],\n",
       "       [0.33684925, 0.13002648, 0.61803985, 0.65791528],\n",
       "       [0.62607232, 0.6976719 , 0.63672263, 0.7131084 ],\n",
       "       [0.76104097, 0.39024571, 0.38673414, 0.74301098],\n",
       "       [0.85016248, 0.09309127, 0.66219333, 0.98416518]])"
      ]
     },
     "execution_count": 70,
     "metadata": {},
     "output_type": "execute_result"
    }
   ],
   "source": [
    "X = np.random.rand(8,4)\n",
    "X"
   ]
  },
  {
   "cell_type": "code",
   "execution_count": 72,
   "metadata": {},
   "outputs": [
    {
     "data": {
      "text/plain": [
       "array([0.44837031, 0.51581422])"
      ]
     },
     "execution_count": 72,
     "metadata": {},
     "output_type": "execute_result"
    }
   ],
   "source": [
    "X[[0,1], [0,1]] # giving 00 and 11"
   ]
  },
  {
   "cell_type": "code",
   "execution_count": 73,
   "metadata": {},
   "outputs": [
    {
     "data": {
      "text/plain": [
       "array([[0.17637007, 0.99132168, 0.3320624 , 0.305084  ],\n",
       "       [0.33684925, 0.13002648, 0.61803985, 0.65791528],\n",
       "       [0.62607232, 0.6976719 , 0.63672263, 0.7131084 ]])"
      ]
     },
     "execution_count": 73,
     "metadata": {},
     "output_type": "execute_result"
    }
   ],
   "source": [
    "X[[2,4,5]] # givign rows 2, 4 & 5"
   ]
  },
  {
   "cell_type": "code",
   "execution_count": 75,
   "metadata": {},
   "outputs": [
    {
     "data": {
      "text/plain": [
       "array([[0.99132168, 0.3320624 ],\n",
       "       [0.13002648, 0.61803985],\n",
       "       [0.6976719 , 0.63672263]])"
      ]
     },
     "execution_count": 75,
     "metadata": {},
     "output_type": "execute_result"
    }
   ],
   "source": [
    "X[[2,4,5]] [:,[1,2]] # accessing subset of the above array with all rows and column 1 & 2"
   ]
  },
  {
   "cell_type": "code",
   "execution_count": 77,
   "metadata": {},
   "outputs": [
    {
     "data": {
      "text/plain": [
       "0.1300264828804122"
      ]
     },
     "execution_count": 77,
     "metadata": {},
     "output_type": "execute_result"
    }
   ],
   "source": [
    "X[[2,4,5]] [:,[1,2]] [1,0] # from the above array, accessing elemnt at index row 1 & colmn 0"
   ]
  },
  {
   "cell_type": "markdown",
   "metadata": {},
   "source": [
    "### Transposing array"
   ]
  },
  {
   "cell_type": "code",
   "execution_count": 78,
   "metadata": {},
   "outputs": [
    {
     "data": {
      "text/plain": [
       "array([[0.71631463, 0.07704156, 0.84568274, 0.52788195, 0.81992041],\n",
       "       [0.55667257, 0.53665932, 0.47309413, 0.5770419 , 0.23648371],\n",
       "       [0.26694191, 0.18959311, 0.44467793, 0.58928865, 0.92617987],\n",
       "       [0.81626353, 0.61529475, 0.72971174, 0.48944517, 0.73343544],\n",
       "       [0.05123269, 0.20581229, 0.01635688, 0.96720219, 0.35984368],\n",
       "       [0.09183623, 0.06399623, 0.82354441, 0.55507224, 0.02065189],\n",
       "       [0.5249601 , 0.12872838, 0.54982028, 0.02120985, 0.10799281],\n",
       "       [0.46838846, 0.53627358, 0.50284948, 0.88156747, 0.01663911]])"
      ]
     },
     "execution_count": 78,
     "metadata": {},
     "output_type": "execute_result"
    }
   ],
   "source": [
    "X = np.random.rand(8,5)\n",
    "X"
   ]
  },
  {
   "cell_type": "code",
   "execution_count": 79,
   "metadata": {},
   "outputs": [
    {
     "data": {
      "text/plain": [
       "array([[0.71631463, 0.55667257, 0.26694191, 0.81626353, 0.05123269,\n",
       "        0.09183623, 0.5249601 , 0.46838846],\n",
       "       [0.07704156, 0.53665932, 0.18959311, 0.61529475, 0.20581229,\n",
       "        0.06399623, 0.12872838, 0.53627358],\n",
       "       [0.84568274, 0.47309413, 0.44467793, 0.72971174, 0.01635688,\n",
       "        0.82354441, 0.54982028, 0.50284948],\n",
       "       [0.52788195, 0.5770419 , 0.58928865, 0.48944517, 0.96720219,\n",
       "        0.55507224, 0.02120985, 0.88156747],\n",
       "       [0.81992041, 0.23648371, 0.92617987, 0.73343544, 0.35984368,\n",
       "        0.02065189, 0.10799281, 0.01663911]])"
      ]
     },
     "execution_count": 79,
     "metadata": {},
     "output_type": "execute_result"
    }
   ],
   "source": [
    "X.transpose()"
   ]
  },
  {
   "cell_type": "code",
   "execution_count": 80,
   "metadata": {},
   "outputs": [
    {
     "data": {
      "text/plain": [
       "array([[0.71631463, 0.55667257, 0.26694191, 0.81626353, 0.05123269,\n",
       "        0.09183623, 0.5249601 , 0.46838846],\n",
       "       [0.07704156, 0.53665932, 0.18959311, 0.61529475, 0.20581229,\n",
       "        0.06399623, 0.12872838, 0.53627358],\n",
       "       [0.84568274, 0.47309413, 0.44467793, 0.72971174, 0.01635688,\n",
       "        0.82354441, 0.54982028, 0.50284948],\n",
       "       [0.52788195, 0.5770419 , 0.58928865, 0.48944517, 0.96720219,\n",
       "        0.55507224, 0.02120985, 0.88156747],\n",
       "       [0.81992041, 0.23648371, 0.92617987, 0.73343544, 0.35984368,\n",
       "        0.02065189, 0.10799281, 0.01663911]])"
      ]
     },
     "execution_count": 80,
     "metadata": {},
     "output_type": "execute_result"
    }
   ],
   "source": [
    "X.T # same as transpose()"
   ]
  },
  {
   "cell_type": "code",
   "execution_count": 81,
   "metadata": {},
   "outputs": [
    {
     "data": {
      "text/plain": [
       "array([[[0.96767679, 0.87010265, 0.91212927, 0.74106751],\n",
       "        [0.37993664, 0.98688047, 0.53898394, 0.74330971],\n",
       "        [0.97325899, 0.3262496 , 0.69415079, 0.13566401],\n",
       "        [0.49561104, 0.16990662, 0.12435466, 0.60683481],\n",
       "        [0.22619011, 0.71823217, 0.03080877, 0.87334077]],\n",
       "\n",
       "       [[0.71999227, 0.63053602, 0.63627563, 0.78719204],\n",
       "        [0.9931677 , 0.9415454 , 0.70456994, 0.72689021],\n",
       "        [0.34831143, 0.18891417, 0.06444903, 0.65521776],\n",
       "        [0.27163603, 0.52580661, 0.42240907, 0.9835571 ],\n",
       "        [0.97114217, 0.1037413 , 0.89572095, 0.10975464]]])"
      ]
     },
     "execution_count": 81,
     "metadata": {},
     "output_type": "execute_result"
    }
   ],
   "source": [
    "X = np.random.rand(2,5,4)\n",
    "X"
   ]
  },
  {
   "cell_type": "code",
   "execution_count": 82,
   "metadata": {},
   "outputs": [
    {
     "data": {
      "text/plain": [
       "array([[[0.96767679, 0.71999227],\n",
       "        [0.37993664, 0.9931677 ],\n",
       "        [0.97325899, 0.34831143],\n",
       "        [0.49561104, 0.27163603],\n",
       "        [0.22619011, 0.97114217]],\n",
       "\n",
       "       [[0.87010265, 0.63053602],\n",
       "        [0.98688047, 0.9415454 ],\n",
       "        [0.3262496 , 0.18891417],\n",
       "        [0.16990662, 0.52580661],\n",
       "        [0.71823217, 0.1037413 ]],\n",
       "\n",
       "       [[0.91212927, 0.63627563],\n",
       "        [0.53898394, 0.70456994],\n",
       "        [0.69415079, 0.06444903],\n",
       "        [0.12435466, 0.42240907],\n",
       "        [0.03080877, 0.89572095]],\n",
       "\n",
       "       [[0.74106751, 0.78719204],\n",
       "        [0.74330971, 0.72689021],\n",
       "        [0.13566401, 0.65521776],\n",
       "        [0.60683481, 0.9835571 ],\n",
       "        [0.87334077, 0.10975464]]])"
      ]
     },
     "execution_count": 82,
     "metadata": {},
     "output_type": "execute_result"
    }
   ],
   "source": [
    "X.transpose()"
   ]
  },
  {
   "cell_type": "markdown",
   "metadata": {},
   "source": [
    "### Universal Functions \n",
    "\n",
    "More on: https://numpy.org/doc/stable/reference/ufuncs.html"
   ]
  },
  {
   "cell_type": "code",
   "execution_count": 83,
   "metadata": {},
   "outputs": [
    {
     "data": {
      "text/plain": [
       "array([10, 20, 30, 40, 50])"
      ]
     },
     "execution_count": 83,
     "metadata": {},
     "output_type": "execute_result"
    }
   ],
   "source": [
    "X = np.array([10,20,30,40,50])\n",
    "X"
   ]
  },
  {
   "cell_type": "code",
   "execution_count": 85,
   "metadata": {},
   "outputs": [
    {
     "name": "stdout",
     "output_type": "stream",
     "text": [
      "[3.16227766 4.47213595 5.47722558 6.32455532 7.07106781]\n",
      "\n",
      "[ 100  400  900 1600 2500]\n"
     ]
    }
   ],
   "source": [
    "print(np.sqrt(X), np.square(X), sep=\"\\n\\n\")"
   ]
  },
  {
   "cell_type": "code",
   "execution_count": 88,
   "metadata": {},
   "outputs": [
    {
     "name": "stdout",
     "output_type": "stream",
     "text": [
      "[[ 1  2]\n",
      " [ 3  4]\n",
      " [ 5  6]\n",
      " [ 7  8]\n",
      " [ 9 10]]\n",
      "\n",
      "[[11 12]\n",
      " [13 14]\n",
      " [15 16]\n",
      " [17 18]\n",
      " [19 20]]\n"
     ]
    }
   ],
   "source": [
    "X = np.arange(1,11).reshape(5,2) # arange is similar to range and filles array with elements from 1 to 11\n",
    "Y = np.arange(11,21).reshape(5,2) # reshape sets the dimension and number of rows and columns\n",
    "print(X, Y, sep=\"\\n\\n\")"
   ]
  },
  {
   "cell_type": "code",
   "execution_count": 91,
   "metadata": {},
   "outputs": [
    {
     "name": "stdout",
     "output_type": "stream",
     "text": [
      "[[12 14]\n",
      " [16 18]\n",
      " [20 22]\n",
      " [24 26]\n",
      " [28 30]]\n",
      "\n",
      "[[-10 -10]\n",
      " [-10 -10]\n",
      " [-10 -10]\n",
      " [-10 -10]\n",
      " [-10 -10]]\n"
     ]
    }
   ],
   "source": [
    "print(np.add(X,Y), np.subtract(X,Y), sep=\"\\n\\n\")"
   ]
  },
  {
   "cell_type": "code",
   "execution_count": 93,
   "metadata": {},
   "outputs": [
    {
     "data": {
      "text/plain": [
       "array([10., 20., 30., 40., 50., nan])"
      ]
     },
     "execution_count": 93,
     "metadata": {},
     "output_type": "execute_result"
    }
   ],
   "source": [
    "X = np.array([10,20,30,40,50, np.nan])\n",
    "X"
   ]
  },
  {
   "cell_type": "code",
   "execution_count": 94,
   "metadata": {},
   "outputs": [
    {
     "data": {
      "text/plain": [
       "array([False, False, False, False, False,  True])"
      ]
     },
     "execution_count": 94,
     "metadata": {},
     "output_type": "execute_result"
    }
   ],
   "source": [
    "np.isnan(X)"
   ]
  },
  {
   "cell_type": "code",
   "execution_count": 95,
   "metadata": {},
   "outputs": [
    {
     "data": {
      "text/plain": [
       "True"
      ]
     },
     "execution_count": 95,
     "metadata": {},
     "output_type": "execute_result"
    }
   ],
   "source": [
    "np.isnan(X).any()"
   ]
  },
  {
   "cell_type": "markdown",
   "metadata": {},
   "source": [
    "### Vectorization"
   ]
  },
  {
   "cell_type": "code",
   "execution_count": 99,
   "metadata": {},
   "outputs": [
    {
     "name": "stdout",
     "output_type": "stream",
     "text": [
      "[ 1  2  3  4  5  6  7  8  9 10]\n",
      "\n",
      "[11 12 13 14 15 16 17 18 19 20]\n",
      "\n",
      "[[ 1  2  3  4  5  6  7  8  9 10]\n",
      " [ 1  2  3  4  5  6  7  8  9 10]\n",
      " [ 1  2  3  4  5  6  7  8  9 10]\n",
      " [ 1  2  3  4  5  6  7  8  9 10]\n",
      " [ 1  2  3  4  5  6  7  8  9 10]\n",
      " [ 1  2  3  4  5  6  7  8  9 10]\n",
      " [ 1  2  3  4  5  6  7  8  9 10]\n",
      " [ 1  2  3  4  5  6  7  8  9 10]\n",
      " [ 1  2  3  4  5  6  7  8  9 10]\n",
      " [ 1  2  3  4  5  6  7  8  9 10]]\n",
      "\n",
      "[[11 11 11 11 11 11 11 11 11 11]\n",
      " [12 12 12 12 12 12 12 12 12 12]\n",
      " [13 13 13 13 13 13 13 13 13 13]\n",
      " [14 14 14 14 14 14 14 14 14 14]\n",
      " [15 15 15 15 15 15 15 15 15 15]\n",
      " [16 16 16 16 16 16 16 16 16 16]\n",
      " [17 17 17 17 17 17 17 17 17 17]\n",
      " [18 18 18 18 18 18 18 18 18 18]\n",
      " [19 19 19 19 19 19 19 19 19 19]\n",
      " [20 20 20 20 20 20 20 20 20 20]]\n"
     ]
    }
   ],
   "source": [
    "X = np.arange(1,11)\n",
    "Y = np.arange(11,21)\n",
    "x1, y1 = np.meshgrid(X,Y)\n",
    "print(X, Y, x1, y1, sep=\"\\n\\n\")"
   ]
  },
  {
   "cell_type": "code",
   "execution_count": 100,
   "metadata": {},
   "outputs": [
    {
     "name": "stdout",
     "output_type": "stream",
     "text": [
      "[[12 13 14 15 16 17 18 19 20 21]\n",
      " [13 14 15 16 17 18 19 20 21 22]\n",
      " [14 15 16 17 18 19 20 21 22 23]\n",
      " [15 16 17 18 19 20 21 22 23 24]\n",
      " [16 17 18 19 20 21 22 23 24 25]\n",
      " [17 18 19 20 21 22 23 24 25 26]\n",
      " [18 19 20 21 22 23 24 25 26 27]\n",
      " [19 20 21 22 23 24 25 26 27 28]\n",
      " [20 21 22 23 24 25 26 27 28 29]\n",
      " [21 22 23 24 25 26 27 28 29 30]]\n",
      "\n",
      "[[10  9  8  7  6  5  4  3  2  1]\n",
      " [11 10  9  8  7  6  5  4  3  2]\n",
      " [12 11 10  9  8  7  6  5  4  3]\n",
      " [13 12 11 10  9  8  7  6  5  4]\n",
      " [14 13 12 11 10  9  8  7  6  5]\n",
      " [15 14 13 12 11 10  9  8  7  6]\n",
      " [16 15 14 13 12 11 10  9  8  7]\n",
      " [17 16 15 14 13 12 11 10  9  8]\n",
      " [18 17 16 15 14 13 12 11 10  9]\n",
      " [19 18 17 16 15 14 13 12 11 10]]\n"
     ]
    }
   ],
   "source": [
    "Z = np.add(x1, y1)\n",
    "print(Z, np.subtract(y1,x1), sep=\"\\n\\n\")"
   ]
  },
  {
   "cell_type": "markdown",
   "metadata": {},
   "source": [
    "### np.where"
   ]
  },
  {
   "cell_type": "code",
   "execution_count": 102,
   "metadata": {},
   "outputs": [],
   "source": [
    "X = np.arange(1,5)\n",
    "Y = np.arange(11,15)\n",
    "Z = np.array([True, False, True, False])"
   ]
  },
  {
   "cell_type": "code",
   "execution_count": 103,
   "metadata": {},
   "outputs": [
    {
     "name": "stdout",
     "output_type": "stream",
     "text": [
      "[1 2 3 4]\n",
      "\n",
      "[11 12 13 14]\n",
      "\n",
      "[ True False  True False]\n",
      "\n",
      "[ 1 12  3 14]\n"
     ]
    }
   ],
   "source": [
    "print(X, Y, Z, np.where(Z, X, Y), sep = \"\\n\\n\")"
   ]
  },
  {
   "cell_type": "markdown",
   "metadata": {},
   "source": [
    "### Statistical Functions\n",
    "More on: https://numpy.org/doc/stable/reference/routines.statistics.html"
   ]
  },
  {
   "cell_type": "code",
   "execution_count": 105,
   "metadata": {},
   "outputs": [
    {
     "data": {
      "text/plain": [
       "array([[ 0,  1,  2],\n",
       "       [ 3,  4,  5],\n",
       "       [ 6,  7,  8],\n",
       "       [ 9, 10, 11],\n",
       "       [12, 13, 14]])"
      ]
     },
     "execution_count": 105,
     "metadata": {},
     "output_type": "execute_result"
    }
   ],
   "source": [
    "X = np.arange(15).reshape((5,3))\n",
    "X"
   ]
  },
  {
   "cell_type": "code",
   "execution_count": 106,
   "metadata": {},
   "outputs": [
    {
     "name": "stdout",
     "output_type": "stream",
     "text": [
      "7.0\n",
      "\n",
      "7.0\n",
      "\n",
      "4.320493798938574\n"
     ]
    }
   ],
   "source": [
    "print(np.mean(X), np.median(X), np.std(X), sep=\"\\n\\n\")"
   ]
  },
  {
   "cell_type": "code",
   "execution_count": 107,
   "metadata": {},
   "outputs": [
    {
     "name": "stdout",
     "output_type": "stream",
     "text": [
      "[6. 7. 8.]\n",
      "\n",
      "[ 1.  4.  7. 10. 13.]\n"
     ]
    }
   ],
   "source": [
    "print(np.mean(X, axis=0), np.mean(X, axis=1), sep=\"\\n\\n\")"
   ]
  },
  {
   "cell_type": "markdown",
   "metadata": {},
   "source": [
    "### Boolean Array"
   ]
  },
  {
   "cell_type": "code",
   "execution_count": 110,
   "metadata": {},
   "outputs": [
    {
     "name": "stdout",
     "output_type": "stream",
     "text": [
      "[ True False  True False]\n",
      "\n",
      "bool\n"
     ]
    }
   ],
   "source": [
    "X = np.array([True, False, True, False])\n",
    "print(X, X.dtype, sep=\"\\n\\n\")"
   ]
  },
  {
   "cell_type": "code",
   "execution_count": 112,
   "metadata": {},
   "outputs": [
    {
     "name": "stdout",
     "output_type": "stream",
     "text": [
      "True\n",
      "\n",
      "2\n",
      "\n",
      "False\n"
     ]
    }
   ],
   "source": [
    "print(X.any(), X.sum(), X.all(), sep=\"\\n\\n\") \n",
    "\n",
    "# checks if there are any true values in the array\n",
    "# sum returns the number of true values\n",
    "# all returns true if all elements are true"
   ]
  },
  {
   "cell_type": "code",
   "execution_count": 113,
   "metadata": {},
   "outputs": [
    {
     "data": {
      "text/plain": [
       "array([[0.02688659, 0.9819989 , 0.26448937, 0.93064198, 0.42925392,\n",
       "        0.63394446, 0.49751149, 0.785338  , 0.08182852],\n",
       "       [0.02337299, 0.98660873, 0.42478433, 0.64236801, 0.11039243,\n",
       "        0.80444857, 0.79390759, 0.50575126, 0.34095432],\n",
       "       [0.48425175, 0.70034371, 0.25761301, 0.47080332, 0.81377468,\n",
       "        0.05497815, 0.12904058, 0.86420112, 0.75497965],\n",
       "       [0.74261552, 0.3360497 , 0.48051136, 0.43730825, 0.12837644,\n",
       "        0.07216907, 0.51886563, 0.92396906, 0.07398905],\n",
       "       [0.55151097, 0.76964474, 0.20943312, 0.66661111, 0.93252137,\n",
       "        0.51640774, 0.99757552, 0.93911023, 0.15190521],\n",
       "       [0.54783594, 0.12745029, 0.48885919, 0.02195404, 0.12339233,\n",
       "        0.3522823 , 0.0613098 , 0.0663253 , 0.22763894],\n",
       "       [0.28597104, 0.21149743, 0.78480516, 0.46068916, 0.27302849,\n",
       "        0.65094741, 0.64659856, 0.84727755, 0.80269986],\n",
       "       [0.3064191 , 0.22068567, 0.21782328, 0.87729905, 0.11958148,\n",
       "        0.39356488, 0.49303242, 0.59890411, 0.74523192],\n",
       "       [0.71451722, 0.84846616, 0.35435109, 0.49403345, 0.60251735,\n",
       "        0.34822397, 0.74128308, 0.80863402, 0.10609253],\n",
       "       [0.1424133 , 0.18947997, 0.40328659, 0.1362459 , 0.6969992 ,\n",
       "        0.01692836, 0.8693624 , 0.76951953, 0.34399332]])"
      ]
     },
     "execution_count": 113,
     "metadata": {},
     "output_type": "execute_result"
    }
   ],
   "source": [
    "X = np.random.rand(10,9)\n",
    "X"
   ]
  },
  {
   "cell_type": "code",
   "execution_count": 114,
   "metadata": {},
   "outputs": [
    {
     "data": {
      "text/plain": [
       "array([[False,  True, False,  True, False,  True, False,  True, False],\n",
       "       [False,  True, False,  True, False,  True,  True,  True, False],\n",
       "       [False,  True, False, False,  True, False, False,  True,  True],\n",
       "       [ True, False, False, False, False, False,  True,  True, False],\n",
       "       [ True,  True, False,  True,  True,  True,  True,  True, False],\n",
       "       [ True, False, False, False, False, False, False, False, False],\n",
       "       [False, False,  True, False, False,  True,  True,  True,  True],\n",
       "       [False, False, False,  True, False, False, False,  True,  True],\n",
       "       [ True,  True, False, False,  True, False,  True,  True, False],\n",
       "       [False, False, False, False,  True, False,  True,  True, False]])"
      ]
     },
     "execution_count": 114,
     "metadata": {},
     "output_type": "execute_result"
    }
   ],
   "source": [
    "X>0.5"
   ]
  },
  {
   "cell_type": "code",
   "execution_count": 115,
   "metadata": {},
   "outputs": [
    {
     "data": {
      "text/plain": [
       "40"
      ]
     },
     "execution_count": 115,
     "metadata": {},
     "output_type": "execute_result"
    }
   ],
   "source": [
    "(X>0.5).sum()"
   ]
  },
  {
   "cell_type": "code",
   "execution_count": 116,
   "metadata": {},
   "outputs": [
    {
     "name": "stdout",
     "output_type": "stream",
     "text": [
      "40\n",
      "\n",
      "False\n"
     ]
    }
   ],
   "source": [
    "print((X>0.5).sum(), (X>0.5).all(), sep=\"\\n\\n\")"
   ]
  },
  {
   "cell_type": "markdown",
   "metadata": {},
   "source": [
    "### Sorting"
   ]
  },
  {
   "cell_type": "code",
   "execution_count": 117,
   "metadata": {},
   "outputs": [
    {
     "data": {
      "text/plain": [
       "array([[0.15340394, 0.35411524, 0.38595352],\n",
       "       [0.25645065, 0.77796584, 0.2721264 ],\n",
       "       [0.43642861, 0.41288142, 0.59864519],\n",
       "       [0.65271652, 0.9161603 , 0.64368726],\n",
       "       [0.09772293, 0.07981505, 0.86181447]])"
      ]
     },
     "execution_count": 117,
     "metadata": {},
     "output_type": "execute_result"
    }
   ],
   "source": [
    "X = np.random.rand(5,3)\n",
    "X"
   ]
  },
  {
   "cell_type": "code",
   "execution_count": 121,
   "metadata": {},
   "outputs": [
    {
     "name": "stdout",
     "output_type": "stream",
     "text": [
      "[[0.09772293 0.07981505 0.2721264 ]\n",
      " [0.15340394 0.35411524 0.38595352]\n",
      " [0.25645065 0.41288142 0.59864519]\n",
      " [0.43642861 0.77796584 0.64368726]\n",
      " [0.65271652 0.9161603  0.86181447]]\n",
      "\n",
      "[[0.15340394 0.35411524 0.38595352]\n",
      " [0.25645065 0.2721264  0.77796584]\n",
      " [0.41288142 0.43642861 0.59864519]\n",
      " [0.64368726 0.65271652 0.9161603 ]\n",
      " [0.07981505 0.09772293 0.86181447]]\n",
      "\n",
      "[0.07981505 0.09772293 0.15340394 0.25645065 0.2721264  0.35411524\n",
      " 0.38595352 0.41288142 0.43642861 0.59864519 0.64368726 0.65271652\n",
      " 0.77796584 0.86181447 0.9161603 ]\n"
     ]
    }
   ],
   "source": [
    "print(np.sort(X, axis=0), np.sort(X, axis=1), np.sort(X, axis=None), sep=\"\\n\\n\")"
   ]
  },
  {
   "cell_type": "code",
   "execution_count": 122,
   "metadata": {},
   "outputs": [
    {
     "name": "stdout",
     "output_type": "stream",
     "text": [
      "[[0.15340394 0.35411524 0.38595352]\n",
      " [0.25645065 0.2721264  0.77796584]\n",
      " [0.41288142 0.43642861 0.59864519]\n",
      " [0.64368726 0.65271652 0.9161603 ]\n",
      " [0.07981505 0.09772293 0.86181447]]\n"
     ]
    }
   ],
   "source": [
    "print(np.sort(X))"
   ]
  },
  {
   "cell_type": "markdown",
   "metadata": {},
   "source": [
    "### Other functions"
   ]
  },
  {
   "cell_type": "code",
   "execution_count": 123,
   "metadata": {},
   "outputs": [
    {
     "data": {
      "text/plain": [
       "array([ 10,  20,  30,  40, 100])"
      ]
     },
     "execution_count": 123,
     "metadata": {},
     "output_type": "execute_result"
    }
   ],
   "source": [
    "X = np.array([10,20,30,40,20,30,100,100])\n",
    "np.unique(X)"
   ]
  },
  {
   "cell_type": "code",
   "execution_count": 124,
   "metadata": {},
   "outputs": [
    {
     "name": "stdout",
     "output_type": "stream",
     "text": [
      "[False  True  True False  True  True False False False False False]\n",
      "\n",
      "[ 10  20  30  40  45  50  60 100]\n",
      "\n",
      "[ 10  40  50  60 100]\n"
     ]
    }
   ],
   "source": [
    "X = np.array([10,20,30,40,20,30,100,100,40,50,60])\n",
    "Y = np.array([20,30,45])\n",
    "print(np.in1d(X,Y), np.union1d(X,Y), np.setdiff1d(X,Y), sep=\"\\n\\n\")"
   ]
  },
  {
   "cell_type": "code",
   "execution_count": 126,
   "metadata": {},
   "outputs": [
    {
     "name": "stdout",
     "output_type": "stream",
     "text": [
      "[ True  True False]\n",
      "\n",
      "[ 10  20  30  40  45  50  60 100]\n",
      "\n",
      "[45]\n"
     ]
    }
   ],
   "source": [
    "print(np.in1d(Y,X), np.union1d(Y,X), np.setdiff1d(Y,X), sep=\"\\n\\n\")"
   ]
  },
  {
   "cell_type": "markdown",
   "metadata": {},
   "source": [
    "### File Save"
   ]
  },
  {
   "cell_type": "code",
   "execution_count": 127,
   "metadata": {},
   "outputs": [
    {
     "data": {
      "text/plain": [
       "array([[0.11825526, 0.57866303, 0.251492  ],\n",
       "       [0.34317449, 0.74994004, 0.18754177],\n",
       "       [0.40176648, 0.28744547, 0.03976976],\n",
       "       [0.12170579, 0.25556002, 0.77732734],\n",
       "       [0.88818273, 0.38679142, 0.46643871]])"
      ]
     },
     "execution_count": 127,
     "metadata": {},
     "output_type": "execute_result"
    }
   ],
   "source": [
    "X = np.random.rand(5,3)\n",
    "X"
   ]
  },
  {
   "cell_type": "code",
   "execution_count": 128,
   "metadata": {},
   "outputs": [],
   "source": [
    "np.save(\"FileSave1.npy\", X)"
   ]
  },
  {
   "cell_type": "code",
   "execution_count": 129,
   "metadata": {},
   "outputs": [
    {
     "data": {
      "text/plain": [
       "array([[0.11825526, 0.57866303, 0.251492  ],\n",
       "       [0.34317449, 0.74994004, 0.18754177],\n",
       "       [0.40176648, 0.28744547, 0.03976976],\n",
       "       [0.12170579, 0.25556002, 0.77732734],\n",
       "       [0.88818273, 0.38679142, 0.46643871]])"
      ]
     },
     "execution_count": 129,
     "metadata": {},
     "output_type": "execute_result"
    }
   ],
   "source": [
    "Y = np.load(\"FileSave1.npy\")\n",
    "Y"
   ]
  },
  {
   "cell_type": "code",
   "execution_count": 131,
   "metadata": {},
   "outputs": [
    {
     "name": "stdout",
     "output_type": "stream",
     "text": [
      "[[0.64471248 0.5710209  0.41523473]\n",
      " [0.77197201 0.24142428 0.18955672]\n",
      " [0.54091625 0.95796536 0.5063474 ]\n",
      " [0.42852793 0.8659065  0.94573334]\n",
      " [0.08679133 0.17654448 0.43994828]]\n",
      "\n",
      "[[0.93882083 0.34439341 0.72433925]\n",
      " [0.98849099 0.81550036 0.55251141]\n",
      " [0.20732225 0.17518727 0.74094938]\n",
      " [0.71993806 0.9667575  0.80206763]\n",
      " [0.25368749 0.43175659 0.27971923]]\n"
     ]
    }
   ],
   "source": [
    "X = np.random.rand(5,3)\n",
    "Y = np.random.rand(5,3)\n",
    "print(X, Y, sep=\"\\n\\n\")"
   ]
  },
  {
   "cell_type": "code",
   "execution_count": 132,
   "metadata": {},
   "outputs": [],
   "source": [
    "np.savez(\"FileSave2.npz\", Xfile = X, Yfile = Y)"
   ]
  },
  {
   "cell_type": "code",
   "execution_count": 133,
   "metadata": {},
   "outputs": [
    {
     "name": "stdout",
     "output_type": "stream",
     "text": [
      "[[0.64471248 0.5710209  0.41523473]\n",
      " [0.77197201 0.24142428 0.18955672]\n",
      " [0.54091625 0.95796536 0.5063474 ]\n",
      " [0.42852793 0.8659065  0.94573334]\n",
      " [0.08679133 0.17654448 0.43994828]]\n",
      "\n",
      "[[0.93882083 0.34439341 0.72433925]\n",
      " [0.98849099 0.81550036 0.55251141]\n",
      " [0.20732225 0.17518727 0.74094938]\n",
      " [0.71993806 0.9667575  0.80206763]\n",
      " [0.25368749 0.43175659 0.27971923]]\n"
     ]
    }
   ],
   "source": [
    "Z = np.load(\"FileSave2.npz\")\n",
    "print(Z['Xfile'], Z['Yfile'], sep=\"\\n\\n\")"
   ]
  },
  {
   "cell_type": "code",
   "execution_count": 134,
   "metadata": {},
   "outputs": [
    {
     "data": {
      "text/plain": [
       "<numpy.lib.npyio.NpzFile at 0x7ff26f11d6a0>"
      ]
     },
     "execution_count": 134,
     "metadata": {},
     "output_type": "execute_result"
    }
   ],
   "source": [
    "Z"
   ]
  },
  {
   "cell_type": "code",
   "execution_count": null,
   "metadata": {},
   "outputs": [],
   "source": []
  },
  {
   "cell_type": "markdown",
   "metadata": {},
   "source": [
    "### Linear Algebra\n",
    "More on: https://numpy.org/doc/stable/reference/routines.linalg.html <br>\n",
    "https://numpy.org/doc/1.16/reference/routines.random.html"
   ]
  },
  {
   "cell_type": "code",
   "execution_count": null,
   "metadata": {},
   "outputs": [],
   "source": []
  },
  {
   "cell_type": "code",
   "execution_count": null,
   "metadata": {},
   "outputs": [],
   "source": []
  }
 ],
 "metadata": {
  "kernelspec": {
   "display_name": "Python 3",
   "language": "python",
   "name": "python3"
  },
  "language_info": {
   "codemirror_mode": {
    "name": "ipython",
    "version": 3
   },
   "file_extension": ".py",
   "mimetype": "text/x-python",
   "name": "python",
   "nbconvert_exporter": "python",
   "pygments_lexer": "ipython3",
   "version": "3.8.5"
  }
 },
 "nbformat": 4,
 "nbformat_minor": 4
}
